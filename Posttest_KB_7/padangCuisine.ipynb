{
 "cells": [
  {
   "cell_type": "markdown",
   "metadata": {},
   "source": [
    "### Import Library"
   ]
  },
  {
   "cell_type": "code",
   "execution_count": 209,
   "metadata": {},
   "outputs": [],
   "source": [
    "import tensorflow as tf\n",
    "import numpy as np"
   ]
  },
  {
   "cell_type": "markdown",
   "metadata": {},
   "source": [
    "### Membuat Data Generator"
   ]
  },
  {
   "cell_type": "code",
   "execution_count": 210,
   "metadata": {},
   "outputs": [],
   "source": [
    "img_path = './dataset_padang_food/'\n",
    "\n",
    "from tensorflow.keras.preprocessing.image import ImageDataGenerator\n",
    "\n",
    "train_datagen = ImageDataGenerator(\n",
    "    rescale=1./255,\n",
    "    fill_mode = 'nearest',\n",
    "    validation_split = 0.2,\n",
    ")\n",
    "\n",
    "val_datagen = ImageDataGenerator(\n",
    "    rescale=1./255,\n",
    "    fill_mode = 'nearest',\n",
    "    validation_split = 0.2\n",
    ")"
   ]
  },
  {
   "cell_type": "markdown",
   "metadata": {},
   "source": [
    "### Batch Picture Augmentation"
   ]
  },
  {
   "cell_type": "code",
   "execution_count": 211,
   "metadata": {},
   "outputs": [
    {
     "name": "stdout",
     "output_type": "stream",
     "text": [
      "Found 799 images belonging to 9 classes.\n",
      "Found 194 images belonging to 9 classes.\n"
     ]
    }
   ],
   "source": [
    "train_generator = train_datagen.flow_from_directory(\n",
    "    img_path,\n",
    "    target_size=(160,160),\n",
    "    batch_size=16,\n",
    "    class_mode='categorical',\n",
    "    shuffle=True,\n",
    "    subset='training'\n",
    ")\n",
    "\n",
    "validation_generator = val_datagen.flow_from_directory(\n",
    "    img_path,\n",
    "    target_size=(160,160),\n",
    "    batch_size=16,\n",
    "    shuffle=True,\n",
    "    class_mode='categorical',\n",
    "    subset='validation'\n",
    ")"
   ]
  },
  {
   "cell_type": "markdown",
   "metadata": {},
   "source": [
    "### Membuat Model"
   ]
  },
  {
   "cell_type": "code",
   "execution_count": 212,
   "metadata": {},
   "outputs": [],
   "source": [
    "model = tf.keras.models.Sequential([\n",
    "    tf.keras.layers.Conv2D(256, (3, 3), activation='relu', input_shape=(160,160,3)),\n",
    "    tf.keras.layers.MaxPooling2D(2,2),\n",
    "    tf.keras.layers.Conv2D(128, (3, 3),activation='relu'),\n",
    "    tf.keras.layers.MaxPooling2D(2,2),\n",
    "    tf.keras.layers.Conv2D(64, (3, 3),activation='relu'),\n",
    "    tf.keras.layers.MaxPooling2D(2,2),\n",
    "    tf.keras.layers.Conv2D(32, (3, 3),activation='relu'),\n",
    "    tf.keras.layers.MaxPooling2D(2,2),\n",
    "    tf.keras.layers.BatchNormalization(),\n",
    "    tf.keras.layers.Conv2D(16, (3, 3),activation='relu'),\n",
    "    tf.keras.layers.MaxPooling2D(2,2),\n",
    "    tf.keras.layers.Flatten(),\n",
    "    tf.keras.layers.Dense(32,activation='relu'),\n",
    "    tf.keras.layers.Dense(64,activation='relu'),\n",
    "    tf.keras.layers.Dropout(0.2),\n",
    "    tf.keras.layers.Dense(9,activation='softmax')\n",
    "])"
   ]
  },
  {
   "cell_type": "markdown",
   "metadata": {},
   "source": [
    "### Bentuk dari Model"
   ]
  },
  {
   "cell_type": "code",
   "execution_count": 213,
   "metadata": {},
   "outputs": [
    {
     "name": "stdout",
     "output_type": "stream",
     "text": [
      "Model: \"sequential_25\"\n",
      "_________________________________________________________________\n",
      " Layer (type)                Output Shape              Param #   \n",
      "=================================================================\n",
      " conv2d_129 (Conv2D)         (None, 158, 158, 256)     7168      \n",
      "                                                                 \n",
      " max_pooling2d_129 (MaxPool  (None, 79, 79, 256)       0         \n",
      " ing2D)                                                          \n",
      "                                                                 \n",
      " conv2d_130 (Conv2D)         (None, 77, 77, 128)       295040    \n",
      "                                                                 \n",
      " max_pooling2d_130 (MaxPool  (None, 38, 38, 128)       0         \n",
      " ing2D)                                                          \n",
      "                                                                 \n",
      " conv2d_131 (Conv2D)         (None, 36, 36, 64)        73792     \n",
      "                                                                 \n",
      " max_pooling2d_131 (MaxPool  (None, 18, 18, 64)        0         \n",
      " ing2D)                                                          \n",
      "                                                                 \n",
      " conv2d_132 (Conv2D)         (None, 16, 16, 32)        18464     \n",
      "                                                                 \n",
      " max_pooling2d_132 (MaxPool  (None, 8, 8, 32)          0         \n",
      " ing2D)                                                          \n",
      "                                                                 \n",
      " batch_normalization_25 (Ba  (None, 8, 8, 32)          128       \n",
      " tchNormalization)                                               \n",
      "                                                                 \n",
      " conv2d_133 (Conv2D)         (None, 6, 6, 16)          4624      \n",
      "                                                                 \n",
      " max_pooling2d_133 (MaxPool  (None, 3, 3, 16)          0         \n",
      " ing2D)                                                          \n",
      "                                                                 \n",
      " flatten_25 (Flatten)        (None, 144)               0         \n",
      "                                                                 \n",
      " dense_75 (Dense)            (None, 32)                4640      \n",
      "                                                                 \n",
      " dense_76 (Dense)            (None, 64)                2112      \n",
      "                                                                 \n",
      " dropout_23 (Dropout)        (None, 64)                0         \n",
      "                                                                 \n",
      " dense_77 (Dense)            (None, 9)                 585       \n",
      "                                                                 \n",
      "=================================================================\n",
      "Total params: 406553 (1.55 MB)\n",
      "Trainable params: 406489 (1.55 MB)\n",
      "Non-trainable params: 64 (256.00 Byte)\n",
      "_________________________________________________________________\n"
     ]
    }
   ],
   "source": [
    "model.summary()"
   ]
  },
  {
   "cell_type": "markdown",
   "metadata": {},
   "source": [
    "### Compile Model"
   ]
  },
  {
   "cell_type": "code",
   "execution_count": 214,
   "metadata": {},
   "outputs": [],
   "source": [
    "model.compile(\n",
    "    loss='categorical_crossentropy',\n",
    "    optimizer=tf.optimizers.Adam(learning_rate=0.001),\n",
    "    metrics=['accuracy']\n",
    ")"
   ]
  },
  {
   "cell_type": "markdown",
   "metadata": {},
   "source": [
    "### Training Model"
   ]
  },
  {
   "cell_type": "code",
   "execution_count": 215,
   "metadata": {},
   "outputs": [
    {
     "name": "stdout",
     "output_type": "stream",
     "text": [
      "Epoch 1/1000\n",
      "50/50 [==============================] - 6s 84ms/step - loss: 2.2059 - accuracy: 0.1640 - val_loss: 2.3731 - val_accuracy: 0.1134\n",
      "Epoch 2/1000\n",
      "50/50 [==============================] - 4s 77ms/step - loss: 1.8751 - accuracy: 0.2929 - val_loss: 1.8523 - val_accuracy: 0.2887\n",
      "Epoch 3/1000\n",
      "50/50 [==============================] - 4s 76ms/step - loss: 1.5781 - accuracy: 0.3842 - val_loss: 1.7467 - val_accuracy: 0.3763\n",
      "Epoch 4/1000\n",
      "50/50 [==============================] - 4s 77ms/step - loss: 1.4785 - accuracy: 0.4318 - val_loss: 1.9956 - val_accuracy: 0.3402\n",
      "Epoch 5/1000\n",
      "50/50 [==============================] - 4s 76ms/step - loss: 1.4136 - accuracy: 0.4718 - val_loss: 1.6829 - val_accuracy: 0.4330\n",
      "Epoch 6/1000\n",
      "50/50 [==============================] - 4s 77ms/step - loss: 1.3226 - accuracy: 0.5069 - val_loss: 1.8117 - val_accuracy: 0.4433\n",
      "Epoch 7/1000\n",
      "50/50 [==============================] - 4s 77ms/step - loss: 1.2882 - accuracy: 0.5244 - val_loss: 1.8258 - val_accuracy: 0.3608\n",
      "Epoch 8/1000\n",
      "50/50 [==============================] - 4s 77ms/step - loss: 1.2543 - accuracy: 0.5219 - val_loss: 1.4547 - val_accuracy: 0.4072\n",
      "Epoch 9/1000\n",
      "50/50 [==============================] - 4s 77ms/step - loss: 1.2089 - accuracy: 0.5707 - val_loss: 1.4749 - val_accuracy: 0.4897\n",
      "Epoch 10/1000\n",
      "50/50 [==============================] - 4s 77ms/step - loss: 1.1146 - accuracy: 0.6058 - val_loss: 2.4379 - val_accuracy: 0.3866\n",
      "Epoch 11/1000\n",
      "50/50 [==============================] - 4s 77ms/step - loss: 1.0281 - accuracy: 0.6333 - val_loss: 2.9832 - val_accuracy: 0.2938\n",
      "Epoch 12/1000\n",
      "50/50 [==============================] - 4s 77ms/step - loss: 1.0608 - accuracy: 0.6070 - val_loss: 1.5107 - val_accuracy: 0.4948\n",
      "Epoch 13/1000\n",
      "50/50 [==============================] - 4s 77ms/step - loss: 0.9864 - accuracy: 0.6320 - val_loss: 1.5600 - val_accuracy: 0.4639\n",
      "Epoch 14/1000\n",
      "50/50 [==============================] - 4s 77ms/step - loss: 0.9198 - accuracy: 0.6583 - val_loss: 1.6593 - val_accuracy: 0.4639\n",
      "Epoch 15/1000\n",
      "50/50 [==============================] - 4s 77ms/step - loss: 0.8781 - accuracy: 0.6996 - val_loss: 1.9598 - val_accuracy: 0.4124\n",
      "Epoch 16/1000\n",
      "50/50 [==============================] - 4s 78ms/step - loss: 0.7992 - accuracy: 0.6996 - val_loss: 1.5222 - val_accuracy: 0.4691\n",
      "Epoch 17/1000\n",
      "50/50 [==============================] - 4s 77ms/step - loss: 0.8122 - accuracy: 0.7121 - val_loss: 1.1403 - val_accuracy: 0.6134\n",
      "Epoch 18/1000\n",
      "50/50 [==============================] - 4s 77ms/step - loss: 0.7759 - accuracy: 0.7234 - val_loss: 1.1648 - val_accuracy: 0.5876\n",
      "Epoch 19/1000\n",
      "50/50 [==============================] - 4s 77ms/step - loss: 0.7476 - accuracy: 0.7359 - val_loss: 1.5546 - val_accuracy: 0.5361\n",
      "Epoch 20/1000\n",
      "50/50 [==============================] - 4s 77ms/step - loss: 0.6568 - accuracy: 0.7509 - val_loss: 1.4227 - val_accuracy: 0.5464\n",
      "Epoch 21/1000\n",
      "50/50 [==============================] - 4s 77ms/step - loss: 0.6496 - accuracy: 0.7597 - val_loss: 1.1652 - val_accuracy: 0.5876\n",
      "Epoch 22/1000\n",
      "50/50 [==============================] - 4s 78ms/step - loss: 0.6153 - accuracy: 0.7760 - val_loss: 1.2103 - val_accuracy: 0.5876\n",
      "Epoch 23/1000\n",
      "50/50 [==============================] - 4s 77ms/step - loss: 0.5304 - accuracy: 0.8148 - val_loss: 1.2597 - val_accuracy: 0.6031\n",
      "Epoch 24/1000\n",
      "50/50 [==============================] - 4s 77ms/step - loss: 0.5691 - accuracy: 0.7897 - val_loss: 1.6583 - val_accuracy: 0.5309\n",
      "Epoch 25/1000\n",
      "50/50 [==============================] - 4s 77ms/step - loss: 0.5138 - accuracy: 0.8235 - val_loss: 1.3949 - val_accuracy: 0.5825\n",
      "Epoch 26/1000\n",
      "50/50 [==============================] - 4s 77ms/step - loss: 0.5133 - accuracy: 0.8348 - val_loss: 1.4171 - val_accuracy: 0.5928\n",
      "Epoch 27/1000\n",
      "50/50 [==============================] - 4s 77ms/step - loss: 0.4527 - accuracy: 0.8461 - val_loss: 1.3521 - val_accuracy: 0.5773\n",
      "Epoch 28/1000\n",
      "50/50 [==============================] - 4s 77ms/step - loss: 0.4859 - accuracy: 0.8310 - val_loss: 1.3493 - val_accuracy: 0.5515\n",
      "Epoch 29/1000\n",
      "50/50 [==============================] - 4s 77ms/step - loss: 0.3961 - accuracy: 0.8648 - val_loss: 1.4011 - val_accuracy: 0.5722\n",
      "Epoch 30/1000\n",
      "50/50 [==============================] - 4s 77ms/step - loss: 0.4233 - accuracy: 0.8611 - val_loss: 1.5647 - val_accuracy: 0.5670\n",
      "Epoch 31/1000\n",
      "50/50 [==============================] - 4s 77ms/step - loss: 0.3380 - accuracy: 0.8773 - val_loss: 2.0431 - val_accuracy: 0.5206\n",
      "Epoch 32/1000\n",
      "50/50 [==============================] - 4s 77ms/step - loss: 0.3392 - accuracy: 0.8761 - val_loss: 1.4570 - val_accuracy: 0.5825\n",
      "Epoch 33/1000\n",
      "50/50 [==============================] - 4s 77ms/step - loss: 0.3475 - accuracy: 0.8786 - val_loss: 2.7640 - val_accuracy: 0.4845\n",
      "Epoch 34/1000\n",
      "50/50 [==============================] - 4s 77ms/step - loss: 0.2963 - accuracy: 0.8974 - val_loss: 1.6254 - val_accuracy: 0.6082\n",
      "Epoch 35/1000\n",
      "50/50 [==============================] - 4s 77ms/step - loss: 0.2625 - accuracy: 0.9099 - val_loss: 1.3878 - val_accuracy: 0.6186\n",
      "Epoch 36/1000\n",
      "50/50 [==============================] - 4s 77ms/step - loss: 0.3868 - accuracy: 0.8561 - val_loss: 1.8544 - val_accuracy: 0.5979\n",
      "Epoch 37/1000\n",
      "50/50 [==============================] - 4s 77ms/step - loss: 0.3060 - accuracy: 0.9099 - val_loss: 3.1321 - val_accuracy: 0.4381\n",
      "Epoch 38/1000\n",
      "50/50 [==============================] - 4s 78ms/step - loss: 0.2124 - accuracy: 0.9337 - val_loss: 1.4148 - val_accuracy: 0.6031\n",
      "Epoch 39/1000\n",
      "50/50 [==============================] - 4s 78ms/step - loss: 0.2366 - accuracy: 0.9262 - val_loss: 1.4559 - val_accuracy: 0.6289\n",
      "Epoch 40/1000\n",
      "50/50 [==============================] - 4s 77ms/step - loss: 0.1763 - accuracy: 0.9437 - val_loss: 1.8790 - val_accuracy: 0.5773\n",
      "Epoch 41/1000\n",
      "50/50 [==============================] - 4s 78ms/step - loss: 0.1733 - accuracy: 0.9499 - val_loss: 1.4457 - val_accuracy: 0.6546\n",
      "Epoch 42/1000\n",
      "50/50 [==============================] - 4s 77ms/step - loss: 0.1447 - accuracy: 0.9537 - val_loss: 1.8729 - val_accuracy: 0.5928\n",
      "Epoch 43/1000\n",
      "50/50 [==============================] - 4s 78ms/step - loss: 0.1356 - accuracy: 0.9587 - val_loss: 1.5890 - val_accuracy: 0.6495\n",
      "Epoch 44/1000\n",
      "50/50 [==============================] - 4s 77ms/step - loss: 0.1003 - accuracy: 0.9750 - val_loss: 1.5679 - val_accuracy: 0.6340\n",
      "Epoch 45/1000\n",
      "50/50 [==============================] - 4s 77ms/step - loss: 0.1646 - accuracy: 0.9524 - val_loss: 2.5812 - val_accuracy: 0.5206\n",
      "Epoch 46/1000\n",
      "50/50 [==============================] - 4s 78ms/step - loss: 0.2556 - accuracy: 0.9111 - val_loss: 2.5733 - val_accuracy: 0.5052\n",
      "Epoch 47/1000\n",
      "50/50 [==============================] - 4s 78ms/step - loss: 0.1402 - accuracy: 0.9512 - val_loss: 2.7746 - val_accuracy: 0.5309\n",
      "Epoch 48/1000\n",
      "50/50 [==============================] - 4s 78ms/step - loss: 0.1473 - accuracy: 0.9449 - val_loss: 2.2855 - val_accuracy: 0.5361\n",
      "Epoch 49/1000\n",
      "50/50 [==============================] - 4s 78ms/step - loss: 0.1521 - accuracy: 0.9449 - val_loss: 2.1697 - val_accuracy: 0.5928\n",
      "Epoch 50/1000\n",
      "50/50 [==============================] - 4s 77ms/step - loss: 0.1616 - accuracy: 0.9449 - val_loss: 1.9035 - val_accuracy: 0.5567\n",
      "Epoch 51/1000\n",
      "50/50 [==============================] - 4s 77ms/step - loss: 0.1882 - accuracy: 0.9349 - val_loss: 1.7648 - val_accuracy: 0.6237\n",
      "Epoch 52/1000\n",
      "50/50 [==============================] - 4s 77ms/step - loss: 0.1194 - accuracy: 0.9599 - val_loss: 1.7990 - val_accuracy: 0.6237\n",
      "Epoch 53/1000\n",
      "50/50 [==============================] - 4s 77ms/step - loss: 0.0831 - accuracy: 0.9787 - val_loss: 1.8489 - val_accuracy: 0.6186\n",
      "Epoch 54/1000\n",
      "50/50 [==============================] - 4s 78ms/step - loss: 0.0583 - accuracy: 0.9887 - val_loss: 2.0422 - val_accuracy: 0.6392\n",
      "Epoch 55/1000\n",
      "50/50 [==============================] - 4s 77ms/step - loss: 0.0671 - accuracy: 0.9750 - val_loss: 2.3438 - val_accuracy: 0.6134\n",
      "Epoch 56/1000\n",
      "50/50 [==============================] - 4s 78ms/step - loss: 0.0894 - accuracy: 0.9700 - val_loss: 3.0909 - val_accuracy: 0.5670\n",
      "Epoch 57/1000\n",
      "50/50 [==============================] - 4s 76ms/step - loss: 0.0866 - accuracy: 0.9712 - val_loss: 2.1356 - val_accuracy: 0.6237\n",
      "Epoch 58/1000\n",
      "50/50 [==============================] - 4s 77ms/step - loss: 0.0735 - accuracy: 0.9737 - val_loss: 1.7712 - val_accuracy: 0.6392\n",
      "Epoch 59/1000\n",
      "50/50 [==============================] - 4s 78ms/step - loss: 0.0718 - accuracy: 0.9775 - val_loss: 2.3726 - val_accuracy: 0.5979\n",
      "Epoch 60/1000\n",
      "50/50 [==============================] - 4s 77ms/step - loss: 0.0874 - accuracy: 0.9750 - val_loss: 2.3065 - val_accuracy: 0.6082\n",
      "Epoch 61/1000\n",
      "50/50 [==============================] - ETA: 0s - loss: 0.1056 - accuracy: 0.9687Restoring model weights from the end of the best epoch: 41.\n",
      "50/50 [==============================] - 4s 77ms/step - loss: 0.1056 - accuracy: 0.9687 - val_loss: 2.5781 - val_accuracy: 0.5464\n",
      "Epoch 61: early stopping\n"
     ]
    }
   ],
   "source": [
    "from tensorflow.keras.callbacks import EarlyStopping\n",
    "\n",
    "earlystop = EarlyStopping(\n",
    "    monitor='val_accuracy',\n",
    "    patience=20,\n",
    "    verbose=1,\n",
    "    restore_best_weights=True\n",
    ")\n",
    "\n",
    "history = model.fit(\n",
    "    train_generator,\n",
    "    validation_data=validation_generator,\n",
    "    epochs=1000,\n",
    "    verbose=1,\n",
    "    callbacks=[earlystop]\n",
    ")"
   ]
  },
  {
   "cell_type": "code",
   "execution_count": 216,
   "metadata": {},
   "outputs": [
    {
     "name": "stdout",
     "output_type": "stream",
     "text": [
      "13/13 [==============================] - 1s 47ms/step - loss: 1.4457 - accuracy: 0.6546\n"
     ]
    },
    {
     "data": {
      "text/plain": [
       "[1.4457285404205322, 0.6546391844749451]"
      ]
     },
     "execution_count": 216,
     "metadata": {},
     "output_type": "execute_result"
    }
   ],
   "source": [
    "model.evaluate(validation_generator)"
   ]
  },
  {
   "cell_type": "code",
   "execution_count": 217,
   "metadata": {},
   "outputs": [
    {
     "data": {
      "image/png": "[encoded data removed]",
      "text/plain": [
       "<Figure size 1080x360 with 2 Axes>"
      ]
     },
     "metadata": {
      "needs_background": "light"
     },
     "output_type": "display_data"
    }
   ],
   "source": [
    "import matplotlib.pyplot as plt\n",
    "\n",
    "plt.figure(figsize=(15, 5))\n",
    "plt.subplot(1, 2, 1)\n",
    "plt.plot(history.history['accuracy'], label='Training Accuracy')\n",
    "plt.plot(history.history['val_accuracy'], label='Validation Accuracy')\n",
    "plt.title('Accuracy')\n",
    "plt.xlabel('Epoch')\n",
    "plt.ylabel('Accuracy')\n",
    "plt.legend()\n",
    "\n",
    "plt.subplot(1, 2, 2)\n",
    "plt.plot(history.history['loss'], label='Training Loss')\n",
    "plt.plot(history.history['val_loss'], label='Validation Loss')\n",
    "plt.title('Loss')\n",
    "plt.xlabel('Epoch')\n",
    "plt.ylabel('Loss')\n",
    "plt.legend()\n",
    "\n",
    "plt.show()\n"
   ]
  },
  {
   "cell_type": "markdown",
   "metadata": {},
   "source": [
    "### VGG16"
   ]
  },
  {
   "cell_type": "code",
   "execution_count": 218,
   "metadata": {},
   "outputs": [
    {
     "name": "stdout",
     "output_type": "stream",
     "text": [
      "Downloading data from https://storage.googleapis.com/tensorflow/keras-applications/vgg16/vgg16_weights_tf_dim_ordering_tf_kernels_notop.h5\n",
      "58889256/58889256 [==============================] - 118s 2us/step\n"
     ]
    }
   ],
   "source": [
    "# using vgg16\n",
    "from tensorflow.keras.applications import VGG16\n",
    "\n",
    "vgg16 = VGG16(\n",
    "    include_top=False,\n",
    "    weights='imagenet',\n",
    "    input_shape=(160,160,3)\n",
    ")\n",
    "\n",
    "for layer in vgg16.layers:\n",
    "    layer.trainable = False\n",
    "\n",
    "model = tf.keras.models.Sequential([\n",
    "    vgg16,\n",
    "    tf.keras.layers.Flatten(),\n",
    "    tf.keras.layers.Dense(32,activation='relu'),\n",
    "    tf.keras.layers.Dense(64,activation='relu'),\n",
    "    tf.keras.layers.Dropout(0.2),\n",
    "    tf.keras.layers.Dense(9,activation='softmax')\n",
    "])"
   ]
  },
  {
   "cell_type": "code",
   "execution_count": 219,
   "metadata": {},
   "outputs": [
    {
     "name": "stdout",
     "output_type": "stream",
     "text": [
      "Model: \"sequential_26\"\n",
      "_________________________________________________________________\n",
      " Layer (type)                Output Shape              Param #   \n",
      "=================================================================\n",
      " vgg16 (Functional)          (None, 5, 5, 512)         14714688  \n",
      "                                                                 \n",
      " flatten_26 (Flatten)        (None, 12800)             0         \n",
      "                                                                 \n",
      " dense_78 (Dense)            (None, 32)                409632    \n",
      "                                                                 \n",
      " dense_79 (Dense)            (None, 64)                2112      \n",
      "                                                                 \n",
      " dropout_24 (Dropout)        (None, 64)                0         \n",
      "                                                                 \n",
      " dense_80 (Dense)            (None, 9)                 585       \n",
      "                                                                 \n",
      "=================================================================\n",
      "Total params: 15127017 (57.70 MB)\n",
      "Trainable params: 412329 (1.57 MB)\n",
      "Non-trainable params: 14714688 (56.13 MB)\n",
      "_________________________________________________________________\n"
     ]
    }
   ],
   "source": [
    "model.summary()"
   ]
  },
  {
   "cell_type": "code",
   "execution_count": 220,
   "metadata": {},
   "outputs": [],
   "source": [
    "model.compile(\n",
    "    loss='categorical_crossentropy',\n",
    "    optimizer=tf.optimizers.Adam(learning_rate=0.001),\n",
    "    metrics=['accuracy']\n",
    ")"
   ]
  },
  {
   "cell_type": "code",
   "execution_count": 221,
   "metadata": {},
   "outputs": [
    {
     "name": "stdout",
     "output_type": "stream",
     "text": [
      "Epoch 1/1000\n",
      "50/50 [==============================] - 6s 87ms/step - loss: 2.0569 - accuracy: 0.2103 - val_loss: 1.7154 - val_accuracy: 0.4072\n",
      "Epoch 2/1000\n",
      "50/50 [==============================] - 3s 67ms/step - loss: 1.5371 - accuracy: 0.4293 - val_loss: 1.4506 - val_accuracy: 0.4794\n",
      "Epoch 3/1000\n",
      "50/50 [==============================] - 3s 67ms/step - loss: 1.1603 - accuracy: 0.5707 - val_loss: 1.1788 - val_accuracy: 0.5979\n",
      "Epoch 4/1000\n",
      "50/50 [==============================] - 3s 67ms/step - loss: 0.7654 - accuracy: 0.7397 - val_loss: 1.0439 - val_accuracy: 0.6495\n",
      "Epoch 5/1000\n",
      "50/50 [==============================] - 3s 69ms/step - loss: 0.5439 - accuracy: 0.8098 - val_loss: 1.0102 - val_accuracy: 0.6546\n",
      "Epoch 6/1000\n",
      "50/50 [==============================] - 3s 68ms/step - loss: 0.3552 - accuracy: 0.8874 - val_loss: 1.0675 - val_accuracy: 0.6443\n",
      "Epoch 7/1000\n",
      "50/50 [==============================] - 3s 67ms/step - loss: 0.2226 - accuracy: 0.9424 - val_loss: 1.0784 - val_accuracy: 0.6649\n",
      "Epoch 8/1000\n",
      "50/50 [==============================] - 3s 67ms/step - loss: 0.1371 - accuracy: 0.9700 - val_loss: 1.0945 - val_accuracy: 0.6649\n",
      "Epoch 9/1000\n",
      "50/50 [==============================] - 4s 69ms/step - loss: 0.0964 - accuracy: 0.9775 - val_loss: 1.1259 - val_accuracy: 0.6495\n",
      "Epoch 10/1000\n",
      "50/50 [==============================] - 4s 71ms/step - loss: 0.0745 - accuracy: 0.9887 - val_loss: 1.1125 - val_accuracy: 0.6959\n",
      "Epoch 11/1000\n",
      "50/50 [==============================] - 3s 68ms/step - loss: 0.0789 - accuracy: 0.9812 - val_loss: 1.3785 - val_accuracy: 0.6237\n",
      "Epoch 12/1000\n",
      "50/50 [==============================] - 4s 71ms/step - loss: 0.0516 - accuracy: 0.9925 - val_loss: 1.1208 - val_accuracy: 0.6495\n",
      "Epoch 13/1000\n",
      "50/50 [==============================] - 4s 68ms/step - loss: 0.0422 - accuracy: 0.9925 - val_loss: 1.2562 - val_accuracy: 0.6546\n",
      "Epoch 14/1000\n",
      "50/50 [==============================] - 3s 68ms/step - loss: 0.0302 - accuracy: 1.0000 - val_loss: 1.2477 - val_accuracy: 0.6495\n",
      "Epoch 15/1000\n",
      "50/50 [==============================] - 3s 69ms/step - loss: 0.0309 - accuracy: 0.9975 - val_loss: 1.1288 - val_accuracy: 0.7216\n",
      "Epoch 16/1000\n",
      "50/50 [==============================] - 3s 68ms/step - loss: 0.0210 - accuracy: 0.9975 - val_loss: 1.2055 - val_accuracy: 0.6907\n",
      "Epoch 17/1000\n",
      "50/50 [==============================] - 3s 68ms/step - loss: 0.0183 - accuracy: 0.9962 - val_loss: 1.2305 - val_accuracy: 0.6804\n",
      "Epoch 18/1000\n",
      "50/50 [==============================] - 3s 68ms/step - loss: 0.0145 - accuracy: 1.0000 - val_loss: 1.2905 - val_accuracy: 0.7113\n",
      "Epoch 19/1000\n",
      "50/50 [==============================] - 3s 67ms/step - loss: 0.0209 - accuracy: 0.9962 - val_loss: 1.2445 - val_accuracy: 0.7010\n",
      "Epoch 20/1000\n",
      "50/50 [==============================] - 3s 69ms/step - loss: 0.0110 - accuracy: 0.9987 - val_loss: 1.2661 - val_accuracy: 0.6753\n",
      "Epoch 21/1000\n",
      "50/50 [==============================] - 3s 68ms/step - loss: 0.0143 - accuracy: 0.9975 - val_loss: 1.2865 - val_accuracy: 0.6959\n",
      "Epoch 22/1000\n",
      "50/50 [==============================] - 3s 68ms/step - loss: 0.0107 - accuracy: 0.9987 - val_loss: 1.4007 - val_accuracy: 0.6753\n",
      "Epoch 23/1000\n",
      "50/50 [==============================] - 3s 67ms/step - loss: 0.0187 - accuracy: 0.9962 - val_loss: 1.3426 - val_accuracy: 0.6701\n",
      "Epoch 24/1000\n",
      "50/50 [==============================] - 3s 68ms/step - loss: 0.0094 - accuracy: 0.9987 - val_loss: 1.2822 - val_accuracy: 0.7268\n",
      "Epoch 25/1000\n",
      "50/50 [==============================] - 3s 67ms/step - loss: 0.0095 - accuracy: 0.9987 - val_loss: 1.4623 - val_accuracy: 0.6753\n",
      "Epoch 26/1000\n",
      "50/50 [==============================] - 3s 68ms/step - loss: 0.0052 - accuracy: 1.0000 - val_loss: 1.3651 - val_accuracy: 0.7216\n",
      "Epoch 27/1000\n",
      "50/50 [==============================] - 4s 69ms/step - loss: 0.0037 - accuracy: 1.0000 - val_loss: 1.3891 - val_accuracy: 0.7062\n",
      "Epoch 28/1000\n",
      "50/50 [==============================] - 3s 69ms/step - loss: 0.0052 - accuracy: 0.9987 - val_loss: 1.3471 - val_accuracy: 0.6959\n",
      "Epoch 29/1000\n",
      "50/50 [==============================] - 3s 69ms/step - loss: 0.0038 - accuracy: 1.0000 - val_loss: 1.4213 - val_accuracy: 0.7113\n",
      "Epoch 30/1000\n",
      "50/50 [==============================] - 3s 69ms/step - loss: 0.0046 - accuracy: 1.0000 - val_loss: 1.3681 - val_accuracy: 0.6959\n",
      "Epoch 31/1000\n",
      "50/50 [==============================] - 4s 69ms/step - loss: 0.0041 - accuracy: 1.0000 - val_loss: 1.3960 - val_accuracy: 0.6856\n",
      "Epoch 32/1000\n",
      "50/50 [==============================] - 4s 70ms/step - loss: 0.0051 - accuracy: 1.0000 - val_loss: 1.5913 - val_accuracy: 0.7062\n",
      "Epoch 33/1000\n",
      "50/50 [==============================] - 3s 68ms/step - loss: 0.0044 - accuracy: 1.0000 - val_loss: 1.4675 - val_accuracy: 0.6546\n",
      "Epoch 34/1000\n",
      "50/50 [==============================] - 4s 70ms/step - loss: 0.0027 - accuracy: 1.0000 - val_loss: 1.4816 - val_accuracy: 0.7010\n",
      "Epoch 35/1000\n",
      "50/50 [==============================] - 4s 70ms/step - loss: 0.0048 - accuracy: 1.0000 - val_loss: 1.4855 - val_accuracy: 0.7010\n",
      "Epoch 36/1000\n",
      "50/50 [==============================] - 4s 69ms/step - loss: 0.0037 - accuracy: 1.0000 - val_loss: 1.5176 - val_accuracy: 0.7113\n",
      "Epoch 37/1000\n",
      "50/50 [==============================] - 3s 69ms/step - loss: 0.0017 - accuracy: 1.0000 - val_loss: 1.5283 - val_accuracy: 0.6856\n",
      "Epoch 38/1000\n",
      "50/50 [==============================] - 3s 69ms/step - loss: 0.0013 - accuracy: 1.0000 - val_loss: 1.5206 - val_accuracy: 0.6804\n",
      "Epoch 39/1000\n",
      "50/50 [==============================] - 3s 68ms/step - loss: 0.0030 - accuracy: 1.0000 - val_loss: 1.6439 - val_accuracy: 0.7268\n",
      "Epoch 40/1000\n",
      "50/50 [==============================] - 3s 68ms/step - loss: 0.0156 - accuracy: 0.9925 - val_loss: 1.8452 - val_accuracy: 0.6392\n",
      "Epoch 41/1000\n",
      "50/50 [==============================] - 3s 68ms/step - loss: 0.0188 - accuracy: 0.9950 - val_loss: 1.5153 - val_accuracy: 0.6804\n",
      "Epoch 42/1000\n",
      "50/50 [==============================] - 3s 66ms/step - loss: 0.0300 - accuracy: 0.9912 - val_loss: 1.9204 - val_accuracy: 0.6031\n",
      "Epoch 43/1000\n",
      "50/50 [==============================] - 3s 67ms/step - loss: 0.1103 - accuracy: 0.9675 - val_loss: 2.3119 - val_accuracy: 0.6134\n",
      "Epoch 44/1000\n",
      "50/50 [==============================] - ETA: 0s - loss: 0.2403 - accuracy: 0.9249Restoring model weights from the end of the best epoch: 24.\n",
      "50/50 [==============================] - 3s 68ms/step - loss: 0.2403 - accuracy: 0.9249 - val_loss: 1.6558 - val_accuracy: 0.6134\n",
      "Epoch 44: early stopping\n"
     ]
    }
   ],
   "source": [
    "from tensorflow.keras.callbacks import EarlyStopping\n",
    "\n",
    "earlystop = EarlyStopping(\n",
    "    monitor='val_accuracy',\n",
    "    patience=20,\n",
    "    verbose=1,\n",
    "    restore_best_weights=True\n",
    ")\n",
    "\n",
    "history = model.fit(\n",
    "    train_generator,\n",
    "    validation_data=validation_generator,\n",
    "    epochs=1000,\n",
    "    verbose=1,\n",
    "    callbacks=[earlystop]\n",
    ")"
   ]
  },
  {
   "cell_type": "code",
   "execution_count": 222,
   "metadata": {},
   "outputs": [
    {
     "name": "stdout",
     "output_type": "stream",
     "text": [
      "13/13 [==============================] - 1s 50ms/step - loss: 1.2822 - accuracy: 0.7268\n"
     ]
    },
    {
     "data": {
      "text/plain": [
       "[1.2822484970092773, 0.7268041372299194]"
      ]
     },
     "execution_count": 222,
     "metadata": {},
     "output_type": "execute_result"
    }
   ],
   "source": [
    "model.evaluate(validation_generator)"
   ]
  },
  {
   "cell_type": "code",
   "execution_count": 223,
   "metadata": {},
   "outputs": [
    {
     "data": {
      "image/png": "[encoded data removed]",
      "text/plain": [
       "<Figure size 1080x360 with 2 Axes>"
      ]
     },
     "metadata": {
      "needs_background": "light"
     },
     "output_type": "display_data"
    }
   ],
   "source": [
    "plt.figure(figsize=(15, 5))\n",
    "plt.subplot(1, 2, 1)\n",
    "plt.plot(history.history['accuracy'], label='Training Accuracy')\n",
    "plt.plot(history.history['val_accuracy'], label='Validation Accuracy')\n",
    "plt.title('Accuracy')\n",
    "plt.xlabel('Epoch')\n",
    "plt.ylabel('Accuracy')\n",
    "plt.legend()\n",
    "\n",
    "plt.subplot(1, 2, 2)\n",
    "plt.plot(history.history['loss'], label='Training Loss')\n",
    "plt.plot(history.history['val_loss'], label='Validation Loss')\n",
    "plt.title('Loss')\n",
    "plt.xlabel('Epoch')\n",
    "plt.ylabel('Loss')\n",
    "plt.legend()\n",
    "\n",
    "plt.show()"
   ]
  },
  {
   "cell_type": "markdown",
   "metadata": {},
   "source": [
    "Dataset: [Naspad](https://www.kaggle.com/datasets/faldoae/padangfood/data)"
   ]
  }
 ],
 "metadata": {
  "kernelspec": {
   "display_name": "Python 3 (ipykernel)",
   "language": "python",
   "name": "python3"
  },
  "language_info": {
   "codemirror_mode": {
    "name": "ipython",
    "version": 3
   },
   "file_extension": ".py",
   "mimetype": "text/x-python",
   "name": "python",
   "nbconvert_exporter": "python",
   "pygments_lexer": "ipython3",
   "version": "3.10.12"
  }
 },
 "nbformat": 4,
 "nbformat_minor": 2
}
